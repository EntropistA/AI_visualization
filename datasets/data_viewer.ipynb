{
 "cells": [
  {
   "cell_type": "code",
   "execution_count": 35,
   "metadata": {
    "collapsed": true
   },
   "outputs": [],
   "source": [
    "import pandas as pd"
   ]
  },
  {
   "cell_type": "code",
   "execution_count": 36,
   "outputs": [],
   "source": [
    "columns = \"country 2019\".split()\n",
    "income = pd.read_csv(\"income_per_person_gdppercapita_ppp_inflation_adjusted.csv\", usecols=columns)\n",
    "income.rename(columns={\"2019\": \"gdp\"}, inplace=True)\n",
    "income[\"gdp\"] = income[\"gdp\"].str.strip(\"k\")\n",
    "income[\"gdp\"] = income[\"gdp\"].astype(\"float\") * 1_000"
   ],
   "metadata": {
    "collapsed": false
   }
  },
  {
   "cell_type": "code",
   "execution_count": 37,
   "outputs": [
    {
     "data": {
      "text/plain": "                  country  life_expectancy_years\n0             Afghanistan                   63.3\n1                  Angola                   65.1\n2                 Albania                   78.5\n3                 Andorra                   82.2\n4    United Arab Emirates                   73.9\n..                    ...                    ...\n190                 Samoa                   70.5\n191                 Yemen                   67.7\n192          South Africa                   65.1\n193                Zambia                   63.2\n194              Zimbabwe                   61.0\n\n[195 rows x 2 columns]",
      "text/html": "<div>\n<style scoped>\n    .dataframe tbody tr th:only-of-type {\n        vertical-align: middle;\n    }\n\n    .dataframe tbody tr th {\n        vertical-align: top;\n    }\n\n    .dataframe thead th {\n        text-align: right;\n    }\n</style>\n<table border=\"1\" class=\"dataframe\">\n  <thead>\n    <tr style=\"text-align: right;\">\n      <th></th>\n      <th>country</th>\n      <th>life_expectancy_years</th>\n    </tr>\n  </thead>\n  <tbody>\n    <tr>\n      <th>0</th>\n      <td>Afghanistan</td>\n      <td>63.3</td>\n    </tr>\n    <tr>\n      <th>1</th>\n      <td>Angola</td>\n      <td>65.1</td>\n    </tr>\n    <tr>\n      <th>2</th>\n      <td>Albania</td>\n      <td>78.5</td>\n    </tr>\n    <tr>\n      <th>3</th>\n      <td>Andorra</td>\n      <td>82.2</td>\n    </tr>\n    <tr>\n      <th>4</th>\n      <td>United Arab Emirates</td>\n      <td>73.9</td>\n    </tr>\n    <tr>\n      <th>...</th>\n      <td>...</td>\n      <td>...</td>\n    </tr>\n    <tr>\n      <th>190</th>\n      <td>Samoa</td>\n      <td>70.5</td>\n    </tr>\n    <tr>\n      <th>191</th>\n      <td>Yemen</td>\n      <td>67.7</td>\n    </tr>\n    <tr>\n      <th>192</th>\n      <td>South Africa</td>\n      <td>65.1</td>\n    </tr>\n    <tr>\n      <th>193</th>\n      <td>Zambia</td>\n      <td>63.2</td>\n    </tr>\n    <tr>\n      <th>194</th>\n      <td>Zimbabwe</td>\n      <td>61.0</td>\n    </tr>\n  </tbody>\n</table>\n<p>195 rows × 2 columns</p>\n</div>"
     },
     "execution_count": 37,
     "metadata": {},
     "output_type": "execute_result"
    }
   ],
   "source": [
    "life_expectancy = pd.read_csv(\"life_expectancy_years.csv\", usecols=columns).rename(columns={\"2019\": \"life_expectancy_years\"})\n",
    "life_expectancy"
   ],
   "metadata": {
    "collapsed": false
   }
  },
  {
   "cell_type": "code",
   "execution_count": 38,
   "outputs": [
    {
     "data": {
      "text/plain": "gdp                      33200.0\nlife_expectancy_years       78.1\nName: Poland, dtype: float64"
     },
     "execution_count": 38,
     "metadata": {},
     "output_type": "execute_result"
    }
   ],
   "source": [
    "income_life_expectancy = income.set_index(\"country\").join(life_expectancy.set_index(\"country\"))\n",
    "income_life_expectancy.loc[\"Poland\"]"
   ],
   "metadata": {
    "collapsed": false
   }
  },
  {
   "cell_type": "code",
   "execution_count": 44,
   "outputs": [
    {
     "name": "stdout",
     "output_type": "stream",
     "text": [
      "gdp                      2070000.0\n",
      "life_expectancy_years         63.3\n",
      "Name: Afghanistan, dtype: float64\n"
     ]
    }
   ],
   "source": [
    "for _, row in income_life_expectancy.iterrows():\n",
    "    print(row)\n",
    "    break"
   ],
   "metadata": {
    "collapsed": false
   }
  },
  {
   "cell_type": "code",
   "execution_count": 45,
   "outputs": [],
   "source": [
    "income_life_expectancy[\"assignment\"] = None"
   ],
   "metadata": {
    "collapsed": false
   }
  },
  {
   "cell_type": "code",
   "execution_count": 46,
   "outputs": [
    {
     "data": {
      "text/plain": "                            gdp  life_expectancy_years assignment\ncountry                                                          \nAfghanistan           2070000.0                   63.3       None\nAngola                6670000.0                   65.1       None\nAlbania                 13700.0                   78.5       None\nAndorra                 58400.0                   82.2       None\nUnited Arab Emirates    68300.0                   73.9       None\n...                         ...                    ...        ...\nSamoa                 6630000.0                   70.5       None\nYemen                 2630000.0                   67.7       None\nSouth Africa            13700.0                   65.1       None\nZambia                3470000.0                   63.2       None\nZimbabwe              3630000.0                   61.0       None\n\n[195 rows x 3 columns]",
      "text/html": "<div>\n<style scoped>\n    .dataframe tbody tr th:only-of-type {\n        vertical-align: middle;\n    }\n\n    .dataframe tbody tr th {\n        vertical-align: top;\n    }\n\n    .dataframe thead th {\n        text-align: right;\n    }\n</style>\n<table border=\"1\" class=\"dataframe\">\n  <thead>\n    <tr style=\"text-align: right;\">\n      <th></th>\n      <th>gdp</th>\n      <th>life_expectancy_years</th>\n      <th>assignment</th>\n    </tr>\n    <tr>\n      <th>country</th>\n      <th></th>\n      <th></th>\n      <th></th>\n    </tr>\n  </thead>\n  <tbody>\n    <tr>\n      <th>Afghanistan</th>\n      <td>2070000.0</td>\n      <td>63.3</td>\n      <td>None</td>\n    </tr>\n    <tr>\n      <th>Angola</th>\n      <td>6670000.0</td>\n      <td>65.1</td>\n      <td>None</td>\n    </tr>\n    <tr>\n      <th>Albania</th>\n      <td>13700.0</td>\n      <td>78.5</td>\n      <td>None</td>\n    </tr>\n    <tr>\n      <th>Andorra</th>\n      <td>58400.0</td>\n      <td>82.2</td>\n      <td>None</td>\n    </tr>\n    <tr>\n      <th>United Arab Emirates</th>\n      <td>68300.0</td>\n      <td>73.9</td>\n      <td>None</td>\n    </tr>\n    <tr>\n      <th>...</th>\n      <td>...</td>\n      <td>...</td>\n      <td>...</td>\n    </tr>\n    <tr>\n      <th>Samoa</th>\n      <td>6630000.0</td>\n      <td>70.5</td>\n      <td>None</td>\n    </tr>\n    <tr>\n      <th>Yemen</th>\n      <td>2630000.0</td>\n      <td>67.7</td>\n      <td>None</td>\n    </tr>\n    <tr>\n      <th>South Africa</th>\n      <td>13700.0</td>\n      <td>65.1</td>\n      <td>None</td>\n    </tr>\n    <tr>\n      <th>Zambia</th>\n      <td>3470000.0</td>\n      <td>63.2</td>\n      <td>None</td>\n    </tr>\n    <tr>\n      <th>Zimbabwe</th>\n      <td>3630000.0</td>\n      <td>61.0</td>\n      <td>None</td>\n    </tr>\n  </tbody>\n</table>\n<p>195 rows × 3 columns</p>\n</div>"
     },
     "execution_count": 46,
     "metadata": {},
     "output_type": "execute_result"
    }
   ],
   "source": [
    "income_life_expectancy"
   ],
   "metadata": {
    "collapsed": false
   }
  },
  {
   "cell_type": "code",
   "execution_count": null,
   "outputs": [],
   "source": [],
   "metadata": {
    "collapsed": false
   }
  }
 ],
 "metadata": {
  "kernelspec": {
   "display_name": "Python 3",
   "language": "python",
   "name": "python3"
  },
  "language_info": {
   "codemirror_mode": {
    "name": "ipython",
    "version": 2
   },
   "file_extension": ".py",
   "mimetype": "text/x-python",
   "name": "python",
   "nbconvert_exporter": "python",
   "pygments_lexer": "ipython2",
   "version": "2.7.6"
  }
 },
 "nbformat": 4,
 "nbformat_minor": 0
}
